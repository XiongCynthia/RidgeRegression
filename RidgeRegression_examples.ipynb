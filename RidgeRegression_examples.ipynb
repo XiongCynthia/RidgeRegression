{
 "cells": [
  {
   "cell_type": "markdown",
   "metadata": {},
   "source": [
    "## Examples using RidgeRegression\n",
    "\n",
    "### Import Libraries"
   ]
  },
  {
   "cell_type": "code",
   "execution_count": null,
   "metadata": {},
   "outputs": [],
   "source": [
    "import pandas as pd\n",
    "import numpy as np\n",
    "from sklearn.preprocessing import StandardScaler\n",
    "from RidgeRegression import RidgeRegression\n",
    "\n",
    "# Evaluating the model\n",
    "from sklearn.model_selection import train_test_split, KFold\n",
    "from sklearn.metrics import mean_squared_error as mse\n",
    "\n",
    "# Data visualization\n",
    "import matplotlib.pyplot as plt"
   ]
  },
  {
   "cell_type": "markdown",
   "metadata": {},
   "source": [
    "### Application with Randomly Generated Dataset"
   ]
  },
  {
   "cell_type": "code",
   "execution_count": 2,
   "metadata": {},
   "outputs": [],
   "source": [
    "def true_model(X):\n",
    "    return 5*X + 12"
   ]
  },
  {
   "cell_type": "code",
   "execution_count": 3,
   "metadata": {},
   "outputs": [],
   "source": [
    "seed = 441\n",
    "\n",
    "np.random.seed(seed)\n",
    "sample_size = 100\n",
    "noise_scale = 1\n",
    "\n",
    "noise = np.random.normal(scale=noise_scale, size=sample_size)\n",
    "X = np.random.uniform(0, 1, size=sample_size)\n",
    "y = true_model(X) + noise"
   ]
  },
  {
   "cell_type": "code",
   "execution_count": 4,
   "metadata": {},
   "outputs": [
    {
     "data": {
      "text/plain": [
       "((100,), (100,))"
      ]
     },
     "execution_count": 4,
     "metadata": {},
     "output_type": "execute_result"
    }
   ],
   "source": [
    "(X.shape, y.shape)"
   ]
  },
  {
   "cell_type": "code",
   "execution_count": 5,
   "metadata": {},
   "outputs": [
    {
     "name": "stdout",
     "output_type": "stream",
     "text": [
      "Mean squared error: 0.5764282222588518\n"
     ]
    }
   ],
   "source": [
    "# Split into training and testing data\n",
    "Xtrain, Xtest, ytrain, ytest = train_test_split(X, y, test_size=0.2, shuffle=True, random_state=seed)\n",
    "\n",
    "# Fit model\n",
    "ridge = RidgeRegression()\n",
    "ridge.fit(Xtrain, ytrain)\n",
    "\n",
    "# Predict values\n",
    "y_pred = ridge.predict(Xtest)\n",
    "print(\"Mean squared error:\", mse(ytest, y_pred))"
   ]
  },
  {
   "cell_type": "code",
   "execution_count": 6,
   "metadata": {},
   "outputs": [
    {
     "name": "stdout",
     "output_type": "stream",
     "text": [
      "y = 5.429413936661821x + 11.542339034364584\n"
     ]
    }
   ],
   "source": [
    "m = float(ridge.W_)\n",
    "b = float(ridge.b_)\n",
    "print('y = {}x + {}'.format(m, b))"
   ]
  },
  {
   "cell_type": "code",
   "execution_count": 7,
   "metadata": {},
   "outputs": [
    {
     "data": {
      "image/png": "[encoded data removed]",
      "text/plain": [
       "<Figure size 640x480 with 1 Axes>"
      ]
     },
     "metadata": {},
     "output_type": "display_data"
    }
   ],
   "source": [
    "plt.scatter(X, y)\n",
    "plt.plot(X, true_model(X), color='orange', label='True model')\n",
    "plt.plot(Xtest, y_pred, color='red', label='Ridge model')\n",
    "plt.legend()\n",
    "plt.show()"
   ]
  },
  {
   "cell_type": "markdown",
   "metadata": {},
   "source": [
    "### Application with Cars Dataset\n",
    "\n",
    "Get dataset here: https://gist.github.com/noamross/e5d3e859aa0c794be10b"
   ]
  },
  {
   "cell_type": "code",
   "execution_count": 8,
   "metadata": {},
   "outputs": [],
   "source": [
    "cars = pd.read_csv('cars.csv')\n",
    "\n",
    "X = cars.loc[:,'CYL':'WGT'].values\n",
    "y = cars['MPG'].values"
   ]
  },
  {
   "cell_type": "code",
   "execution_count": 9,
   "metadata": {},
   "outputs": [
    {
     "data": {
      "text/plain": [
       "((392, 3), (392,))"
      ]
     },
     "execution_count": 9,
     "metadata": {},
     "output_type": "execute_result"
    }
   ],
   "source": [
    "(X.shape, y.shape)"
   ]
  },
  {
   "cell_type": "code",
   "execution_count": 10,
   "metadata": {},
   "outputs": [
    {
     "name": "stdout",
     "output_type": "stream",
     "text": [
      "Mean squared error: 21.606458438422194\n"
     ]
    }
   ],
   "source": [
    "# Split into training and testing data\n",
    "Xtrain, Xtest, ytrain, ytest = train_test_split(X, y, test_size=0.2, shuffle=True)\n",
    "\n",
    "# Scale data\n",
    "scaler = StandardScaler()\n",
    "Xtrain_scaled = scaler.fit_transform(Xtrain)\n",
    "Xtest_scaled = scaler.transform(Xtest)\n",
    "\n",
    "# Fit model\n",
    "ridge = RidgeRegression()\n",
    "ridge.fit(Xtrain_scaled, ytrain)\n",
    "\n",
    "# Predict values\n",
    "y_pred = ridge.predict(Xtest_scaled)\n",
    "print(\"Mean squared error:\", mse(ytest, y_pred))"
   ]
  },
  {
   "cell_type": "code",
   "execution_count": 11,
   "metadata": {},
   "outputs": [
    {
     "name": "stdout",
     "output_type": "stream",
     "text": [
      "Average training mean squared error: 18.24920127647404\n",
      "Average testing mean squared error: 18.660411088309374\n"
     ]
    }
   ],
   "source": [
    "# Store mean squared errors for each k-fold\n",
    "train_mse = []\n",
    "test_mse = []\n",
    "\n",
    "kf = KFold(shuffle=True)\n",
    "for idxTrain, idxTest in kf.split(X):\n",
    "    Xtrain = X[idxTrain]\n",
    "    ytrain = y[idxTrain]\n",
    "    Xtest = X[idxTest]\n",
    "    ytest = y[idxTest]\n",
    "\n",
    "    scaler = StandardScaler()\n",
    "    Xtrain_scaled = scaler.fit_transform(Xtrain)\n",
    "    Xtest_scaled = scaler.transform(Xtest)\n",
    "\n",
    "    ridge = RidgeRegression()\n",
    "    ridge.fit(Xtrain_scaled, ytrain)\n",
    "    \n",
    "    train_mse.append(mse(ytrain, ridge.predict(Xtrain_scaled)))\n",
    "    test_mse.append(mse(ytest, ridge.predict(Xtest_scaled)))\n",
    "\n",
    "print(\"Average training mean squared error:\", np.mean(train_mse))\n",
    "print(\"Average testing mean squared error:\", np.mean(test_mse))"
   ]
  }
 ],
 "metadata": {
  "kernelspec": {
   "display_name": "data441",
   "language": "python",
   "name": "python3"
  },
  "language_info": {
   "codemirror_mode": {
    "name": "ipython",
    "version": 3
   },
   "file_extension": ".py",
   "mimetype": "text/x-python",
   "name": "python",
   "nbconvert_exporter": "python",
   "pygments_lexer": "ipython3",
   "version": "3.11.0"
  }
 },
 "nbformat": 4,
 "nbformat_minor": 2
}
